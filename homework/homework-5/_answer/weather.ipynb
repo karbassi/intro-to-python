{
  "nbformat": 4,
  "nbformat_minor": 0,
  "metadata": {
    "colab": {
      "name": "weather.ipynb",
      "provenance": [],
      "private_outputs": true
    },
    "kernelspec": {
      "name": "python3",
      "display_name": "Python 3"
    }
  },
  "cells": [
    {
      "cell_type": "markdown",
      "metadata": {
        "id": "5XomEDQLjkoS",
        "colab_type": "text"
      },
      "source": [
        "# Weather API example\n",
        "\n",
        "This example will call the OpenWeatherMap API and get the next 7 days weather."
      ]
    },
    {
      "cell_type": "code",
      "metadata": {
        "id": "iOX5UCDpjwvK",
        "colab_type": "code",
        "colab": {}
      },
      "source": [
        "import requests\n",
        "import pandas as pd\n",
        "\n",
        "APPID=\"ea42045886608526507915df6b33b290\"\n",
        "LAT = 41.95\n",
        "LON = -87.75\n",
        "EXCLUDE=(\n",
        "    \"current\",\n",
        "    \"minutely\",\n",
        "    \"hourly\",\n",
        "    # \"daily\",\n",
        ")\n",
        "UNITS=\"imperial\"\n",
        "\n",
        "URL = f\"https://api.openweathermap.org/data/2.5/onecall?lat={LAT}&lon={LON}&exclude={','.join(EXCLUDE)}&appid={APPID}&units={UNITS}\"\n",
        "\n",
        "URL"
      ],
      "execution_count": null,
      "outputs": []
    },
    {
      "cell_type": "markdown",
      "metadata": {
        "id": "n8SxzFW2kp-f",
        "colab_type": "text"
      },
      "source": [
        "Call the API"
      ]
    },
    {
      "cell_type": "code",
      "metadata": {
        "id": "XtGRwdKbkshw",
        "colab_type": "code",
        "colab": {}
      },
      "source": [
        "response = requests.get(URL)\n",
        "data = response.json()\n",
        "data"
      ],
      "execution_count": null,
      "outputs": []
    },
    {
      "cell_type": "code",
      "metadata": {
        "id": "sLbv42QQk2dg",
        "colab_type": "code",
        "colab": {}
      },
      "source": [
        "df = pd.json_normalize(data['daily'])\n",
        "df.head()"
      ],
      "execution_count": null,
      "outputs": []
    },
    {
      "cell_type": "code",
      "metadata": {
        "id": "qrriCkZnlb6b",
        "colab_type": "code",
        "colab": {}
      },
      "source": [
        "columns = ['dt', 'temp.min', 'temp.max']\n",
        "weather = df[columns]\n",
        "\n",
        "weather['dt'] = pd.to_datetime(weather['dt'], unit='s', utc=True).dt.tz_convert('America/Chicago')\n",
        "\n",
        "weather = weather.set_index('dt')\n",
        "weather.head()"
      ],
      "execution_count": null,
      "outputs": []
    },
    {
      "cell_type": "code",
      "metadata": {
        "id": "dpXcR-19l1pO",
        "colab_type": "code",
        "colab": {}
      },
      "source": [
        "line = weather.plot.line(\n",
        "    figsize=(12, 5),\n",
        "    color=['salmon', 'yellowgreen'],\n",
        ")\n",
        "\n",
        "line.set(\n",
        "    xlabel='Days',\n",
        "    ylabel='Temp in Fahrenheit',\n",
        "    title='Weather over 7 days',\n",
        ")\n"
      ],
      "execution_count": null,
      "outputs": []
    },
    {
      "cell_type": "code",
      "metadata": {
        "id": "wIMJSvk9o3bD",
        "colab_type": "code",
        "colab": {}
      },
      "source": [
        "bar = weather.plot.bar(\n",
        "    figsize=(12, 5),\n",
        "    color=['salmon', 'yellowgreen'],\n",
        ")\n",
        "\n",
        "bar.set(\n",
        "    xlabel='Days',\n",
        "    ylabel='Temp in Fahrenheit',\n",
        "    title='Weather over 7 days',\n",
        ")"
      ],
      "execution_count": null,
      "outputs": []
    },
    {
      "cell_type": "code",
      "metadata": {
        "id": "ag6izBetrI0C",
        "colab_type": "code",
        "colab": {}
      },
      "source": [
        "feels = df[['dt', 'temp.day', 'feels_like.day']]\n",
        "feels['dt'] = pd.to_datetime(feels['dt'], unit='s', utc=True).dt.tz_convert('America/Chicago')\n",
        "feels = feels.set_index('dt')\n",
        "feels"
      ],
      "execution_count": null,
      "outputs": []
    },
    {
      "cell_type": "code",
      "metadata": {
        "id": "oZZVa4h9r0f_",
        "colab_type": "code",
        "colab": {}
      },
      "source": [
        "# feels\n",
        "feels_line = feels.plot.line(\n",
        "    figsize=(12, 5),\n",
        "    color=['salmon', 'yellowgreen'],\n",
        "    grid=True,\n",
        ")\n",
        "\n",
        "feels_line.set(\n",
        "    xlabel='Days',\n",
        "    ylabel='Temp in Fahrenheit',\n",
        "    title='Weather over 7 days',\n",
        ")"
      ],
      "execution_count": null,
      "outputs": []
    }
  ]
}